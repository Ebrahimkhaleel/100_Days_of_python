{
 "cells": [
  {
   "cell_type": "markdown",
   "metadata": {},
   "source": [
    "**HASH TABLES**"
   ]
  },
  {
   "cell_type": "code",
   "execution_count": null,
   "metadata": {},
   "outputs": [],
   "source": []
  },
  {
   "cell_type": "code",
   "execution_count": 1,
   "metadata": {},
   "outputs": [],
   "source": [
    "Stock_prices=[]\n",
    "with open('prices.csv','r') as f:\n",
    "    for line in f:\n",
    "        token=line.split(',')\n",
    "        day=token[0]\n",
    "        price=float(token[1])\n",
    "        Stock_prices.append([day,price])\n",
    "        "
   ]
  },
  {
   "cell_type": "code",
   "execution_count": 2,
   "metadata": {},
   "outputs": [
    {
     "data": {
      "text/plain": [
       "[['1-Mar', 257.0],\n",
       " ['2-Mar', 236.0],\n",
       " ['3-Mar', 262.0],\n",
       " ['4-Mar', 244.0],\n",
       " ['5-Mar', 289.0],\n",
       " ['6-Mar', 372.0],\n",
       " ['7-Mar', 311.0],\n",
       " ['8-Mar', 236.0],\n",
       " ['9-Mar', 318.0],\n",
       " ['10-Mar', 399.0],\n",
       " ['11-Mar', 293.0],\n",
       " ['12-Mar', 292.0],\n",
       " ['13-Mar', 318.0],\n",
       " ['14-Mar', 306.0],\n",
       " ['15-Mar', 233.0]]"
      ]
     },
     "execution_count": 2,
     "metadata": {},
     "output_type": "execute_result"
    }
   ],
   "source": [
    "Stock_prices"
   ]
  },
  {
   "cell_type": "code",
   "execution_count": 3,
   "metadata": {},
   "outputs": [
    {
     "name": "stdout",
     "output_type": "stream",
     "text": [
      "318.0\n"
     ]
    }
   ],
   "source": [
    "for i in Stock_prices:\n",
    "    if i[0] == \"9-Mar\":\n",
    "        print(i[1])"
   ]
  },
  {
   "cell_type": "code",
   "execution_count": 4,
   "metadata": {},
   "outputs": [],
   "source": [
    "Stock_prices_dict={}\n",
    "with open('prices.csv','r') as f:\n",
    "    for line in f:\n",
    "        token=line.split(',')\n",
    "        day=token[0]\n",
    "        price=float(token[1])\n",
    "        Stock_prices_dict[day]=price"
   ]
  },
  {
   "cell_type": "code",
   "execution_count": 5,
   "metadata": {},
   "outputs": [
    {
     "data": {
      "text/plain": [
       "{'1-Mar': 257.0,\n",
       " '2-Mar': 236.0,\n",
       " '3-Mar': 262.0,\n",
       " '4-Mar': 244.0,\n",
       " '5-Mar': 289.0,\n",
       " '6-Mar': 372.0,\n",
       " '7-Mar': 311.0,\n",
       " '8-Mar': 236.0,\n",
       " '9-Mar': 318.0,\n",
       " '10-Mar': 399.0,\n",
       " '11-Mar': 293.0,\n",
       " '12-Mar': 292.0,\n",
       " '13-Mar': 318.0,\n",
       " '14-Mar': 306.0,\n",
       " '15-Mar': 233.0}"
      ]
     },
     "execution_count": 5,
     "metadata": {},
     "output_type": "execute_result"
    }
   ],
   "source": [
    "Stock_prices_dict "
   ]
  },
  {
   "cell_type": "code",
   "execution_count": 6,
   "metadata": {},
   "outputs": [],
   "source": [
    "def hash_key(key):\n",
    "    h=0\n",
    "    for char in key:\n",
    "        h+=ord(char)\n",
    "    return h % 100"
   ]
  },
  {
   "cell_type": "code",
   "execution_count": 7,
   "metadata": {},
   "outputs": [
    {
     "data": {
      "text/plain": [
       "9"
      ]
     },
     "execution_count": 7,
     "metadata": {},
     "output_type": "execute_result"
    }
   ],
   "source": [
    "hash_key('march 6')"
   ]
  },
  {
   "cell_type": "code",
   "execution_count": 31,
   "metadata": {},
   "outputs": [],
   "source": [
    "class HashTable:\n",
    "    def __init__(self) -> None:\n",
    "        self.max=100\n",
    "        self.arr=[[] for i in range(self.max)]\n",
    "    \n",
    "    def hash_key(self,key):\n",
    "        h=0\n",
    "        for char in key:\n",
    "            h+=ord(char)\n",
    "        return h % self.max\n",
    "    \n",
    "    def __setitem__(self,key,value):\n",
    "        h=self.hash_key(key)\n",
    "        found=False\n",
    "        for idx, element in enumerate(self.arr[h]):\n",
    "            if len(element)==2 and element[0]==key:\n",
    "                self.arr[h][idx] = (key,value)\n",
    "                found=True\n",
    "                break\n",
    "        self.arr[h].append((key,value))\n",
    "    \n",
    "    def __getitem__(self,key):\n",
    "        h=self.hash_key(key)\n",
    "        for element in self.arr[h]:\n",
    "            if element[0] == key:\n",
    "                return element[1]\n",
    "            \n",
    "    \n",
    "    def __delitem__(self,key):\n",
    "        h=self.hash_key(key)\n",
    "        for index, element in enumerate(self.arr[h]):\n",
    "            if element[0]== key:\n",
    "                del self.arr[h][index]"
   ]
  },
  {
   "cell_type": "code",
   "execution_count": 35,
   "metadata": {},
   "outputs": [
    {
     "data": {
      "text/plain": [
       "[[],\n",
       " [],\n",
       " [],\n",
       " [],\n",
       " [],\n",
       " [],\n",
       " [],\n",
       " [('march 4', 67)],\n",
       " [],\n",
       " [],\n",
       " [],\n",
       " [('march 8', 676)],\n",
       " [],\n",
       " [],\n",
       " [],\n",
       " [],\n",
       " [],\n",
       " [],\n",
       " [],\n",
       " [],\n",
       " [],\n",
       " [],\n",
       " [],\n",
       " [],\n",
       " [],\n",
       " [],\n",
       " [],\n",
       " [],\n",
       " [],\n",
       " [],\n",
       " [],\n",
       " [],\n",
       " [],\n",
       " [],\n",
       " [],\n",
       " [],\n",
       " [],\n",
       " [],\n",
       " [],\n",
       " [],\n",
       " [],\n",
       " [],\n",
       " [],\n",
       " [],\n",
       " [],\n",
       " [],\n",
       " [],\n",
       " [],\n",
       " [],\n",
       " [],\n",
       " [],\n",
       " [],\n",
       " [],\n",
       " [],\n",
       " [],\n",
       " [],\n",
       " [],\n",
       " [],\n",
       " [('march 25', 670)],\n",
       " [],\n",
       " [],\n",
       " [],\n",
       " [],\n",
       " [],\n",
       " [],\n",
       " [],\n",
       " [],\n",
       " [],\n",
       " [],\n",
       " [],\n",
       " [],\n",
       " [],\n",
       " [],\n",
       " [],\n",
       " [],\n",
       " [],\n",
       " [],\n",
       " [],\n",
       " [],\n",
       " [],\n",
       " [],\n",
       " [],\n",
       " [],\n",
       " [],\n",
       " [],\n",
       " [],\n",
       " [],\n",
       " [],\n",
       " [],\n",
       " [],\n",
       " [],\n",
       " [],\n",
       " [],\n",
       " [],\n",
       " [],\n",
       " [],\n",
       " [],\n",
       " [],\n",
       " [],\n",
       " []]"
      ]
     },
     "execution_count": 35,
     "metadata": {},
     "output_type": "execute_result"
    }
   ],
   "source": [
    "tin=HashTable()\n",
    "tin.hash_key('march 4')\n",
    "tin['march 4']=67\n",
    "tin['march 16']=672\n",
    "tin['march 25']=670\n",
    "tin['march 8']=676\n",
    "tin.arr\n",
    "tin['march 4']\n",
    "tin.arr\n",
    "del tin['march 16']\n",
    "tin.arr \n"
   ]
  },
  {
   "cell_type": "markdown",
   "metadata": {},
   "source": [
    "**Exercise**"
   ]
  },
  {
   "cell_type": "code",
   "execution_count": 37,
   "metadata": {},
   "outputs": [],
   "source": [
    "Weather=[]\n",
    "with open('nyc_weather.csv','r') as g:\n",
    "    for line in g:\n",
    "        token=line.split(',')\n",
    "    try:\n",
    "        temperature = int(token[1])\n",
    "        Weather.append(temperature)\n",
    "    except:\n",
    "        print(\"Invalid temperature.Ignore the row\")"
   ]
  },
  {
   "cell_type": "code",
   "execution_count": 42,
   "metadata": {},
   "outputs": [
    {
     "name": "stdout",
     "output_type": "stream",
     "text": [
      "2\n",
      "4\n",
      "6\n",
      "8\n",
      "we have 4 even numbers\n"
     ]
    }
   ],
   "source": [
    "count=0\n",
    "for i in range(1,10):\n",
    "    if i % 2==0:\n",
    "        print(i)\n",
    "        count+=1\n",
    "    \n",
    "    \n",
    "else:\n",
    "    print(f'we have {count} even numbers')"
   ]
  }
 ],
 "metadata": {
  "kernelspec": {
   "display_name": "Python 3",
   "language": "python",
   "name": "python3"
  },
  "language_info": {
   "codemirror_mode": {
    "name": "ipython",
    "version": 3
   },
   "file_extension": ".py",
   "mimetype": "text/x-python",
   "name": "python",
   "nbconvert_exporter": "python",
   "pygments_lexer": "ipython3",
   "version": "3.11.3"
  }
 },
 "nbformat": 4,
 "nbformat_minor": 2
}
