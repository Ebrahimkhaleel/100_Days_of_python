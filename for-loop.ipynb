{
 "cells": [
  {
   "cell_type": "markdown",
   "metadata": {},
   "source": [
    "**Introduction**\n"
   ]
  },
  {
   "cell_type": "markdown",
   "metadata": {},
   "source": [
    "A for loop in Python is a control flow statement used to execute a block of code repeatedly to a set number of times or iterates over a sequence of elements such as a list, tuple, or string."
   ]
  },
  {
   "cell_type": "markdown",
   "metadata": {},
   "source": [
    "#for temporary variable in (iterable item):\n",
    "#temporary variable used to created to hold a value from an iterable item\n",
    "#iterable item is a collection of elements (such as a list, tuple, string, or range) \n",
    "over which the loop will iterate.  "
   ]
  },
  {
   "cell_type": "code",
   "execution_count": 19,
   "metadata": {},
   "outputs": [
    {
     "name": "stdout",
     "output_type": "stream",
     "text": [
      "j\n",
      "o\n",
      "h\n",
      "n\n"
     ]
    }
   ],
   "source": [
    "iterable_item='john'\n",
    "for i  in iterable_item:\n",
    "    print(i)"
   ]
  },
  {
   "cell_type": "code",
   "execution_count": 8,
   "metadata": {},
   "outputs": [
    {
     "name": "stdout",
     "output_type": "stream",
     "text": [
      "l\n",
      "a\n",
      "u\n",
      "n\n",
      "d\n",
      "r\n",
      "y\n"
     ]
    }
   ],
   "source": [
    "#iterate through a string\n",
    "for i in 'laundry':\n",
    "    print(i)"
   ]
  },
  {
   "cell_type": "code",
   "execution_count": 10,
   "metadata": {},
   "outputs": [
    {
     "name": "stdout",
     "output_type": "stream",
     "text": [
      "laundry\n",
      "dishes\n",
      "cleaning\n"
     ]
    }
   ],
   "source": [
    "#iterate through a list\n",
    "my_list=['laundry','dishes', 'cleaning']\n",
    "for i in my_list:\n",
    "    print(i)"
   ]
  },
  {
   "cell_type": "code",
   "execution_count": 11,
   "metadata": {},
   "outputs": [
    {
     "name": "stdout",
     "output_type": "stream",
     "text": [
      "laundry\n",
      "dishes\n",
      "cleaning\n"
     ]
    }
   ],
   "source": [
    "#iterate through a Tuple\n",
    "for i in ('laundry','dishes', 'cleaning'):\n",
    "    print(i)"
   ]
  },
  {
   "cell_type": "code",
   "execution_count": 21,
   "metadata": {},
   "outputs": [
    {
     "name": "stdout",
     "output_type": "stream",
     "text": [
      "0\n",
      "1\n",
      "2\n"
     ]
    }
   ],
   "source": [
    "#iterate through a range\n",
    "for i in range(3):\n",
    "    print(i)"
   ]
  },
  {
   "cell_type": "code",
   "execution_count": 22,
   "metadata": {},
   "outputs": [
    {
     "name": "stdout",
     "output_type": "stream",
     "text": [
      "0\n",
      "0\n",
      "(0,0)\n",
      "1\n",
      "(0,1)\n",
      "2\n",
      "(0,2)\n",
      "1\n",
      "0\n",
      "(1,0)\n",
      "1\n",
      "(1,1)\n",
      "2\n",
      "(1,2)\n",
      "2\n",
      "0\n",
      "(2,0)\n",
      "1\n",
      "(2,1)\n",
      "2\n",
      "(2,2)\n",
      "3\n",
      "0\n",
      "(3,0)\n",
      "1\n",
      "(3,1)\n",
      "2\n",
      "(3,2)\n",
      "4\n",
      "0\n",
      "(4,0)\n",
      "1\n",
      "(4,1)\n",
      "2\n",
      "(4,2)\n"
     ]
    }
   ],
   "source": [
    "for caleb in range(5):\n",
    "    print(caleb)\n",
    "    for daniel in range(3):\n",
    "        print(daniel)\n",
    "        print(f'({caleb},{daniel})')"
   ]
  },
  {
   "cell_type": "code",
   "execution_count": 4,
   "metadata": {},
   "outputs": [
    {
     "name": "stdout",
     "output_type": "stream",
     "text": [
      "1\n",
      "2\n",
      "3\n",
      "\n",
      "4\n",
      "5\n",
      "6\n",
      "\n",
      "7\n",
      "8\n",
      "9\n",
      "\n"
     ]
    }
   ],
   "source": [
    "#nested for loop\n",
    "nested_list = [[1, 2, 3],[4, 5, 6],[7, 8, 9]]\n",
    "\n",
    "for row in nested_list:\n",
    "    for element in row:\n",
    "        \n",
    "        print(element)\n",
    "    print()\n"
   ]
  },
  {
   "cell_type": "code",
   "execution_count": 24,
   "metadata": {},
   "outputs": [
    {
     "name": "stdout",
     "output_type": "stream",
     "text": [
      "0 cat\n",
      "1 dog\n",
      "2 rabbit\n",
      "3 bird\n",
      "4 goat\n"
     ]
    }
   ],
   "source": [
    "animals = [\"cat\", \"dog\", \"rabbit\",'bird','goat']\n",
    "for index, animal in enumerate(animals):\n",
    "    print(index, animal)\n"
   ]
  },
  {
   "cell_type": "markdown",
   "metadata": {},
   "source": [
    "The enumerate() function adds a counter to an iterable and returns it as objects are enumerated, which can be useful for getting both the index and value in a loop."
   ]
  },
  {
   "cell_type": "code",
   "execution_count": 26,
   "metadata": {},
   "outputs": [
    {
     "name": "stdout",
     "output_type": "stream",
     "text": [
      "0\n",
      "1\n",
      "2\n",
      "3\n",
      "4\n",
      "5\n",
      "6\n"
     ]
    }
   ],
   "source": [
    "#using break statement to terminate a loop based on a condition\n",
    "for i in range(10):\n",
    "    if i == 7:\n",
    "        break\n",
    "    print(i)\n"
   ]
  },
  {
   "cell_type": "code",
   "execution_count": 29,
   "metadata": {},
   "outputs": [
    {
     "name": "stdout",
     "output_type": "stream",
     "text": [
      "0\n",
      "2\n",
      "4\n",
      "6\n",
      "8\n"
     ]
    }
   ],
   "source": [
    "#continue statement used in continue \n",
    "# with a loop even if met with a condtion will break it\n",
    "for i in range(10):\n",
    "    if i % 2 == 1:\n",
    "        continue\n",
    "    print(i)\n"
   ]
  },
  {
   "cell_type": "code",
   "execution_count": 31,
   "metadata": {},
   "outputs": [
    {
     "name": "stdout",
     "output_type": "stream",
     "text": [
      "0\n",
      "1\n",
      "2\n",
      "3\n",
      "4\n",
      "completed\n"
     ]
    }
   ],
   "source": [
    "#for else to be used when a loop is done executing\n",
    "for i in range(5):\n",
    "    print(i)\n",
    "else:\n",
    "    print(\"completed\")\n"
   ]
  },
  {
   "cell_type": "markdown",
   "metadata": {},
   "source": [
    "**Exercises**"
   ]
  },
  {
   "cell_type": "code",
   "execution_count": 33,
   "metadata": {},
   "outputs": [
    {
     "name": "stdout",
     "output_type": "stream",
     "text": [
      "3\n",
      "6\n",
      "8\n",
      "10\n",
      "23\n",
      "Maximum: 23\n"
     ]
    }
   ],
   "source": [
    "#using loops to get a maximum value\n",
    "numbers = [3, 6, 2, 8, 4, 10, 23]\n",
    "maximum_number = numbers[0]\n",
    "print(maximum_number)\n",
    "for number in numbers:\n",
    "    if number > maximum_number:\n",
    "        maximum_number = number\n",
    "        print(maximum_number)\n",
    "print(\"Maximum:\", maximum_number)\n"
   ]
  },
  {
   "cell_type": "code",
   "execution_count": 4,
   "metadata": {},
   "outputs": [
    {
     "name": "stdout",
     "output_type": "stream",
     "text": [
      "i am number 0\n",
      "i am number 1\n",
      "i am number 2\n",
      "i am number 3\n",
      "i am number 4\n",
      "i am number 5\n",
      "i am number 6\n",
      "i am number 7\n"
     ]
    }
   ],
   "source": [
    "i=0\n",
    "while i <=7:\n",
    "    print('i am number',i)\n",
    "    i=i+1\n",
    "    "
   ]
  },
  {
   "cell_type": "code",
   "execution_count": 6,
   "metadata": {},
   "outputs": [
    {
     "name": "stdout",
     "output_type": "stream",
     "text": [
      "i am number 0\n",
      "i am number 1\n",
      "i am number 2\n",
      "i am number 3\n",
      "we've found the culprit 3\n"
     ]
    }
   ],
   "source": [
    "i=0\n",
    "while i <=7:\n",
    "    print('i am number',i)\n",
    "    if i == 3:\n",
    "        print(\"we've found the culprit\",i)\n",
    "        break\n",
    "    i=i+1"
   ]
  },
  {
   "cell_type": "code",
   "execution_count": 7,
   "metadata": {},
   "outputs": [
    {
     "name": "stdout",
     "output_type": "stream",
     "text": [
      "i am number 0\n",
      "i am number 1\n",
      "i am number 2\n",
      "i am number 3\n",
      "i am number 4\n",
      "i am number 5\n",
      "i am number 6\n",
      "i am number 7\n",
      "done\n"
     ]
    }
   ],
   "source": [
    "i=0\n",
    "while i <=7:\n",
    "    print('i am number',i)\n",
    "    i=i+1\n",
    "else:\n",
    "    print(\"done\")"
   ]
  }
 ],
 "metadata": {
  "kernelspec": {
   "display_name": "Python 3",
   "language": "python",
   "name": "python3"
  },
  "language_info": {
   "codemirror_mode": {
    "name": "ipython",
    "version": 3
   },
   "file_extension": ".py",
   "mimetype": "text/x-python",
   "name": "python",
   "nbconvert_exporter": "python",
   "pygments_lexer": "ipython3",
   "version": "3.11.3"
  }
 },
 "nbformat": 4,
 "nbformat_minor": 2
}
