{
 "cells": [
  {
   "cell_type": "markdown",
   "metadata": {},
   "source": [
    "**Object-Oriented Programming (OOP)**"
   ]
  },
  {
   "cell_type": "markdown",
   "metadata": {},
   "source": [
    "Object-Oriented Programming (OOP) is a programming paradigm based on the concept of \"objects.\" Objects are instances of classes that encapsulate data and the functions that operate on that data.\n",
    "\n",
    "The four main principles of OOP are:\n",
    "\n",
    "* Encapsulation: Bundling data (attributes) and methods (functions) that operate on the data into a single unit called a class.\n",
    "* Abstraction: Hiding the complex implementation details and showing only the necessary features of an object.\n",
    "* Inheritance: Creating new classes from existing ones, allowing the new class to inherit attributes and methods of the parent class.\n",
    "* Polymorphism: Allowing objects to be treated as instances of their parent class, with the ability to override or extend functionality."
   ]
  },
  {
   "cell_type": "code",
   "execution_count": 11,
   "metadata": {},
   "outputs": [
    {
     "name": "stdout",
     "output_type": "stream",
     "text": [
      "You are buying Honda, any, red, N2000 and it was made in the year 2016\n",
      "3600.0\n"
     ]
    }
   ],
   "source": [
    "class Cars:\n",
    "    discount = 0.9  # (10% off)\n",
    "    \n",
    "    def __init__(self, name: str, model, color, price, year, quantity=1):\n",
    "        # Defining instance parameters\n",
    "        self.name = name\n",
    "        self.model = model\n",
    "        self.color = color\n",
    "        self.price = price\n",
    "        self.year = year\n",
    "        self.quantity = quantity\n",
    "        print(f\"You are buying {self.name}, {self.model}, {self.color}, N{self.price} and it was made in the year {self.year}\")\n",
    "    #method\n",
    "    def calc_amount(self):\n",
    "        return self.price * self.quantity\n",
    "    \n",
    "    def discount_amount(self):\n",
    "        return self.price * self.discount * self.quantity\n",
    "\n",
    "#instance\n",
    "car1 = Cars(\"Honda\", \"any\", \"red\", 2000, 2016, 2)\n",
    "\n",
    "\n",
    "print(car1.discount_amount())\n"
   ]
  },
  {
   "cell_type": "code",
   "execution_count": 10,
   "metadata": {},
   "outputs": [
    {
     "name": "stdout",
     "output_type": "stream",
     "text": [
      "<class '__main__.Cars'>\n",
      "C450\n",
      "EOD\n",
      "black\n"
     ]
    }
   ],
   "source": [
    "class Cars:\n",
    "    #initialize\n",
    "    def __init__(self, name, model , color):\n",
    "        self.name=name\n",
    "        self.model=model\n",
    "        self.color=color\n",
    "\n",
    "\n",
    "car1=Cars(\"Benz\",'C450','black')\n",
    "print(type(car1))\n",
    "print(car1.model)\n",
    "car2=Cars(\"Honda\",'EOD','blue')\n",
    "print(car2.model)\n",
    "print(car1.color)"
   ]
  },
  {
   "cell_type": "code",
   "execution_count": null,
   "metadata": {},
   "outputs": [],
   "source": [
    "#methods\n",
    "class Cars:\n",
    "    def __init__(self, name, model , color):\n",
    "        self.name=name\n",
    "        self.model=model\n",
    "        self.color=color\n",
    "        \n",
    "    \n",
    "   \n",
    "\n",
    "car1=Cars(\"Benz\",'C450','black')\n",
    "print(car1.model)\n",
    "car2=Cars(\"Honda\",'EOD','blue')\n",
    "print(car2.model)"
   ]
  },
  {
   "cell_type": "markdown",
   "metadata": {},
   "source": [
    "**Inheritance**"
   ]
  },
  {
   "cell_type": "markdown",
   "metadata": {},
   "source": [
    "Inheritance is one of the fundamental concepts of Object-Oriented Programming (OOP) in Python. It allows one class (called the child or derived class) to inherit attributes and methods from another class (called the parent or base class)."
   ]
  },
  {
   "cell_type": "markdown",
   "metadata": {},
   "source": [
    "Key Concepts in Inheritance:\n",
    "* Parent (Base) Class: The class whose properties and methods are inherited by another class.\n",
    "* Child (Derived) Class:The class that inherits the properties and methods of the parent class.\n",
    "It can also have additional methods and properties or override the parent class methods.\n",
    "* super(): A special function used to refer to the parent class without explicitly naming it.\n",
    "Useful for calling methods or accessing attributes from the parent class."
   ]
  },
  {
   "cell_type": "code",
   "execution_count": null,
   "metadata": {},
   "outputs": [],
   "source": [
    "class Parent:\n",
    "    def __init__(self, name):\n",
    "        self.name = name\n",
    "    \n",
    "    def greet(self):\n",
    "        return f\"Hello, {self.name}\"\n",
    "\n",
    "class Child(Parent):\n",
    "    def __init__(self, name, age):\n",
    "        # Calling the __init__ of the parent class\n",
    "        super().__init__(name)\n",
    "        self.age = age\n",
    "    \n",
    "    def introduce(self):\n",
    "        return f\"I am {self.name} and I am {self.age} years old.\"\n",
    "    \n",
    "object1=Child()\n"
   ]
  },
  {
   "cell_type": "markdown",
   "metadata": {},
   "source": [
    "Types of inheritance\n",
    "* Single\n",
    "* Multiple\n",
    "* Multilevel\n",
    "* Hierarchical"
   ]
  },
  {
   "cell_type": "markdown",
   "metadata": {},
   "source": [
    "SINGLE CLASS\n",
    "* Inherits from one parent class"
   ]
  },
  {
   "cell_type": "code",
   "execution_count": null,
   "metadata": {},
   "outputs": [],
   "source": [
    "class Parent:\n",
    "    pass\n",
    "\n",
    "class Child(Parent):\n",
    "    pass\n"
   ]
  },
  {
   "cell_type": "markdown",
   "metadata": {},
   "source": [
    "Multiple Inheritance\n",
    "* A child class inherits from more than one parent class."
   ]
  },
  {
   "cell_type": "code",
   "execution_count": null,
   "metadata": {},
   "outputs": [],
   "source": [
    "class Parent1:\n",
    "    pass\n",
    "\n",
    "class Parent2:\n",
    "    pass\n",
    "\n",
    "class Child(Parent1, Parent2):\n",
    "    pass\n"
   ]
  },
  {
   "cell_type": "markdown",
   "metadata": {},
   "source": [
    "Multilevel Inheritance\n",
    "* A child class inherits from a parent class, which is itself a child class of another class."
   ]
  },
  {
   "cell_type": "code",
   "execution_count": null,
   "metadata": {},
   "outputs": [],
   "source": [
    "class GrandParent:\n",
    "    pass\n",
    "\n",
    "class Parent(GrandParent):\n",
    "    pass\n",
    "\n",
    "class Child(Parent):\n",
    "    pass\n"
   ]
  },
  {
   "cell_type": "markdown",
   "metadata": {},
   "source": [
    "Hierarchical Inheritance\n",
    "* More than one child class inherits from the same parent class."
   ]
  },
  {
   "cell_type": "code",
   "execution_count": null,
   "metadata": {},
   "outputs": [],
   "source": [
    "class Parent:\n",
    "    pass\n",
    "\n",
    "class Child1(Parent):\n",
    "    pass\n",
    "\n",
    "class Child2(Parent):\n",
    "    pass\n"
   ]
  },
  {
   "cell_type": "markdown",
   "metadata": {},
   "source": [
    "Advantages of Inheritance:\n",
    "* Code Reusability: Reduces redundancy by allowing classes to reuse code from parent classes.\n",
    "* Extensibility: Allows the modification and extension of functionalities without altering the parent class.\n",
    "* **SUMMARY**\n",
    "* Inheritance lets a class (child) derive methods and attributes from another class (parent).\n",
    "* super() allows the child class to access the methods and properties of the parent class.\n",
    "Classes can inherit attributes and behaviors and also have their own specific functionalities."
   ]
  }
 ],
 "metadata": {
  "kernelspec": {
   "display_name": "Python 3",
   "language": "python",
   "name": "python3"
  },
  "language_info": {
   "name": "python",
   "version": "3.11.3"
  }
 },
 "nbformat": 4,
 "nbformat_minor": 2
}
