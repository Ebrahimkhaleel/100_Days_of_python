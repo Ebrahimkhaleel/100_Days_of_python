{
 "cells": [
  {
   "cell_type": "markdown",
   "metadata": {},
   "source": [
    "**Functions**"
   ]
  },
  {
   "cell_type": "markdown",
   "metadata": {},
   "source": [
    "A function is a block of reusable code that performs a specific task. Which helps in breaking down code into smaller, less complex parts. \n",
    "* Code reusability\n",
    "* Simplification of complex problems\n",
    "* Improved readability\n",
    "    "
   ]
  },
  {
   "cell_type": "markdown",
   "metadata": {},
   "source": [
    "we basically have two different types of functions:\n",
    "* perform a task\n",
    "* returns a value"
   ]
  },
  {
   "cell_type": "code",
   "execution_count": 1,
   "metadata": {},
   "outputs": [],
   "source": [
    "def function_name(parameters):\n",
    "    \"\"\"docstring\"\"\"\n",
    "    #code block\n",
    "\n",
    "function_name('arguments')\n"
   ]
  },
  {
   "cell_type": "markdown",
   "metadata": {},
   "source": [
    "Components:\n",
    "\n",
    "* def: Keyword to define a function.\n",
    "* function_name: Name of the function, following standard naming conventions.\n",
    "* parameters: Optional; variables passed to the function.\n",
    "* docstring: Optional; provides a description of the function’s purpose.\n",
    "* code block: Code to be executed when the function is called."
   ]
  },
  {
   "cell_type": "code",
   "execution_count": 2,
   "metadata": {},
   "outputs": [
    {
     "name": "stdout",
     "output_type": "stream",
     "text": [
      "hello caleb, david\n"
     ]
    },
    {
     "data": {
      "text/plain": [
       "\"this function gets users name and prints it.\\n\\n    Args:\\n        first (string): user's first name\\n        last (string): user's last name\\n        \\n    exceptions:\\n        indentation error\\n        syntax error\\n        \""
      ]
     },
     "execution_count": 2,
     "metadata": {},
     "output_type": "execute_result"
    }
   ],
   "source": [
    "#retrieving docstring\n",
    "def get_name(first,last):\n",
    "    \"\"\"this function gets users name and prints it.\n",
    "\n",
    "    Args:\n",
    "        first (string): user's first name\n",
    "        last (string): user's last name\n",
    "        \n",
    "    exceptions:\n",
    "        indentation error\n",
    "        syntax error\n",
    "        \"\"\"\n",
    "    print(f'hello {first}, {last}')\n",
    "\n",
    "get_name('caleb','david')\n",
    "get_name.__doc__"
   ]
  },
  {
   "cell_type": "code",
   "execution_count": 3,
   "metadata": {},
   "outputs": [
    {
     "name": "stdout",
     "output_type": "stream",
     "text": [
      "your middle name is tony and your nickname is bigbash\n"
     ]
    }
   ],
   "source": [
    "def collect_names(middle_name, nickname):\n",
    "    \"\"\" our function is collecting other names of students\n",
    "\n",
    "    Args:\n",
    "        middle_name (string): user's middle name\n",
    "        nickname (string): user's nick name\n",
    "    exceptions:\n",
    "        Indentation\n",
    "        syntax\n",
    "        \n",
    "    \"\"\"\n",
    "    print(f'your middle name is {middle_name} and your nickname is {nickname}')\n",
    "collect_names(middle_name='tony',nickname='bigbash')"
   ]
  },
  {
   "cell_type": "code",
   "execution_count": 4,
   "metadata": {},
   "outputs": [
    {
     "data": {
      "text/plain": [
       "2.0"
      ]
     },
     "execution_count": 4,
     "metadata": {},
     "output_type": "execute_result"
    }
   ],
   "source": [
    "def divide(g: int,u=2):\n",
    "    return g/u\n",
    "\n",
    "divide(4)"
   ]
  },
  {
   "cell_type": "markdown",
   "metadata": {},
   "source": [
    "* keyword arguments\n",
    "* default arguments"
   ]
  },
  {
   "cell_type": "code",
   "execution_count": 5,
   "metadata": {},
   "outputs": [
    {
     "name": "stdout",
     "output_type": "stream",
     "text": [
      "12\n",
      "None\n"
     ]
    }
   ],
   "source": [
    "def add_numbers(x,y,z):\n",
    "    print(x+y+z)\n",
    "    \n",
    "t=add_numbers(x=2,y=6,z=4)\n",
    "print(t)\n",
    "\n",
    "\n"
   ]
  },
  {
   "cell_type": "code",
   "execution_count": 6,
   "metadata": {},
   "outputs": [
    {
     "name": "stdout",
     "output_type": "stream",
     "text": [
      "12\n"
     ]
    }
   ],
   "source": [
    "def add_numbers(x,y,z):\n",
    "    return x+y+z\n",
    "    \n",
    "x=add_numbers(2,6,4)\n",
    "print(x)"
   ]
  },
  {
   "cell_type": "code",
   "execution_count": 11,
   "metadata": {},
   "outputs": [
    {
     "name": "stdout",
     "output_type": "stream",
     "text": [
      "9\n"
     ]
    }
   ],
   "source": [
    "def add_numbers(x: int,y, z=1):\n",
    "    return x+y+z\n",
    "    \n",
    "x=add_numbers(2,6)\n",
    "print(x)\n"
   ]
  },
  {
   "cell_type": "code",
   "execution_count": null,
   "metadata": {},
   "outputs": [
    {
     "data": {
      "text/plain": [
       "18"
      ]
     },
     "execution_count": 37,
     "metadata": {},
     "output_type": "execute_result"
    }
   ],
   "source": [
    "def multiply(x,y):\n",
    "    return x*y\n",
    "multiply(3,6)"
   ]
  },
  {
   "cell_type": "code",
   "execution_count": null,
   "metadata": {},
   "outputs": [],
   "source": [
    "x=x+1\n",
    "x+=1\n",
    "x*=1"
   ]
  },
  {
   "cell_type": "code",
   "execution_count": 12,
   "metadata": {},
   "outputs": [
    {
     "data": {
      "text/plain": [
       "217728"
      ]
     },
     "execution_count": 12,
     "metadata": {},
     "output_type": "execute_result"
    }
   ],
   "source": [
    "#*args\n",
    "\n",
    "def multiply(*values):\n",
    "    total=1\n",
    "    for i in values:\n",
    "        total *= i\n",
    "        \n",
    "        \n",
    "    return total\n",
    "multiply(3,6,4,9,7,8,2,3)\n"
   ]
  },
  {
   "cell_type": "code",
   "execution_count": 13,
   "metadata": {},
   "outputs": [
    {
     "name": "stdout",
     "output_type": "stream",
     "text": [
      "{'name': 'chiamaka', 'matric_no': 'Pl/2345', 'department': 'biochem', 'track': 'data science'}\n"
     ]
    }
   ],
   "source": [
    "#**kwargs\n",
    "def student_info(**student):\n",
    "    print(student)\n",
    "    \n",
    "student_info(name='chiamaka',matric_no='Pl/2345',department='biochem',track='data science')"
   ]
  },
  {
   "cell_type": "code",
   "execution_count": null,
   "metadata": {},
   "outputs": [],
   "source": [
    "#scope (local vs global)\n",
    "# a global variable is a variable you can use in all \n",
    "# of your file while local variable is a variable \n",
    "# under just a  particular function"
   ]
  },
  {
   "cell_type": "code",
   "execution_count": 16,
   "metadata": {},
   "outputs": [
    {
     "data": {
      "text/plain": [
       "7"
      ]
     },
     "execution_count": 16,
     "metadata": {},
     "output_type": "execute_result"
    }
   ],
   "source": [
    "c=5\n",
    "c=7\n",
    "c"
   ]
  },
  {
   "cell_type": "code",
   "execution_count": 17,
   "metadata": {},
   "outputs": [
    {
     "name": "stdout",
     "output_type": "stream",
     "text": [
      "madrid\n",
      "madrid\n"
     ]
    },
    {
     "data": {
      "text/plain": [
       "'madrid'"
      ]
     },
     "execution_count": 17,
     "metadata": {},
     "output_type": "execute_result"
    }
   ],
   "source": [
    "club='madrid'\n",
    "def find():\n",
    "    team='chelsea'\n",
    "    print(club)\n",
    "find()\n",
    "def find2():\n",
    "    global teams ='r'\n",
    "    \n",
    "    team='man u'\n",
    "    print(club)\n",
    "find2()\n",
    "club\n",
    "teams\n"
   ]
  },
  {
   "cell_type": "code",
   "execution_count": null,
   "metadata": {},
   "outputs": [
    {
     "data": {
      "text/plain": [
       "78.53981633974483"
      ]
     },
     "execution_count": 3,
     "metadata": {},
     "output_type": "execute_result"
    }
   ],
   "source": [
    "import math\n",
    "\n",
    "def area_of_a_circle(r):\n",
    "    area= math.pi * (r**2)\n",
    "    return area\n",
    "area_of_a_circle(5)\n",
    "    "
   ]
  },
  {
   "cell_type": "code",
   "execution_count": 8,
   "metadata": {},
   "outputs": [
    {
     "name": "stdout",
     "output_type": "stream",
     "text": [
      "Error: Radius must be a positive number. Area cannot be calculated.\n"
     ]
    }
   ],
   "source": [
    "import math\n",
    "\n",
    "def area_of_circle(radius):\n",
    "    \"\"\"\n",
    "    Calculate the area of a circle given its radius.\n",
    "\n",
    "    Parameters:\n",
    "    radius (float): The radius of the circle. Must be a positive number.\n",
    "\n",
    "    Returns:\n",
    "    float: The area of the circle if the radius is positive.\n",
    "           None if the radius is negative or zero, with a message indicating the issue.\n",
    "    \"\"\"\n",
    "    if radius <= 0:\n",
    "        print(\"Error: Radius must be a positive number. Area cannot be calculated.\")\n",
    "        return None\n",
    "    else:\n",
    "        area = math.pi * (radius ** 2)\n",
    "        return area\n",
    "\n",
    "\n",
    "result = area_of_circle(-9)\n",
    "if result is not None:\n",
    "    print(f\"The area of the circle is: {result} \")\n",
    "#and radius is {radius}"
   ]
  },
  {
   "cell_type": "markdown",
   "metadata": {},
   "source": [
    "Functions are divided into:\n",
    "* built-in function \n",
    "* user-defined\n",
    "* anonymous"
   ]
  },
  {
   "cell_type": "markdown",
   "metadata": {},
   "source": [
    "**Lambdas**"
   ]
  },
  {
   "cell_type": "markdown",
   "metadata": {},
   "source": [
    "A lambda function is anl anonymous function defined using the 'lambda' keyword in Python. It can have any number of arguments but only one expression at thesame time any valid python expression, to be evaluated and returned."
   ]
  },
  {
   "cell_type": "code",
   "execution_count": null,
   "metadata": {},
   "outputs": [],
   "source": [
    "lambda #arguments: #expression"
   ]
  },
  {
   "cell_type": "code",
   "execution_count": 3,
   "metadata": {},
   "outputs": [
    {
     "data": {
      "text/plain": [
       "11"
      ]
     },
     "execution_count": 3,
     "metadata": {},
     "output_type": "execute_result"
    }
   ],
   "source": [
    "new_func=lambda x: x+5\n",
    "new_func(6)"
   ]
  },
  {
   "cell_type": "code",
   "execution_count": 18,
   "metadata": {},
   "outputs": [
    {
     "name": "stdout",
     "output_type": "stream",
     "text": [
      "[9, 16, 25, 49]\n"
     ]
    }
   ],
   "source": [
    "my_list=[3,4,5,7]\n",
    "def raise_to_two(x):\n",
    "    return x**2\n",
    "\n",
    "valuer=list(map(raise_to_two,my_list))\n",
    "print(valuer)\n",
    "    \n",
    "    "
   ]
  },
  {
   "cell_type": "code",
   "execution_count": 19,
   "metadata": {},
   "outputs": [
    {
     "name": "stdout",
     "output_type": "stream",
     "text": [
      "[9, 16, 25, 49]\n"
     ]
    }
   ],
   "source": [
    "my_list=[3,4,5,7]\n",
    "# def raise_to_two(x):\n",
    "#     return x**2\n",
    "\n",
    "squared=list(map(lambda x: x**2,my_list))\n",
    "print(squared)"
   ]
  },
  {
   "cell_type": "code",
   "execution_count": 9,
   "metadata": {},
   "outputs": [
    {
     "name": "stdout",
     "output_type": "stream",
     "text": [
      "['bash']\n"
     ]
    }
   ],
   "source": [
    "list2=['joe','pam','bash','simon']\n",
    "\n",
    "bash=list(filter(lambda x : x == 'bash',list2))\n",
    "print(bash)"
   ]
  },
  {
   "cell_type": "code",
   "execution_count": null,
   "metadata": {},
   "outputs": [],
   "source": [
    "#sort  filter"
   ]
  }
 ],
 "metadata": {
  "kernelspec": {
   "display_name": "Python 3",
   "language": "python",
   "name": "python3"
  },
  "language_info": {
   "codemirror_mode": {
    "name": "ipython",
    "version": 3
   },
   "file_extension": ".py",
   "mimetype": "text/x-python",
   "name": "python",
   "nbconvert_exporter": "python",
   "pygments_lexer": "ipython3",
   "version": "3.11.3"
  }
 },
 "nbformat": 4,
 "nbformat_minor": 2
}
